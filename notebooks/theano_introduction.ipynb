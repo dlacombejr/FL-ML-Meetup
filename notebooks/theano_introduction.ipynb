{
 "cells": [
  {
   "cell_type": "markdown",
   "metadata": {},
   "source": [
    "# Theano Introduction\n",
    "\n",
    "Let's start by creating a function that will perform some linear algebra function. For example, we can construct a function that returns the dot product of two vectors $x$ and $y$:\n",
    "$$ z = xy^T $$\n",
    "\n",
    "To start working with Theano, we import it as well as the tensor subpackage for shorthand. "
   ]
  },
  {
   "cell_type": "code",
   "execution_count": 1,
   "metadata": {
    "collapsed": true
   },
   "outputs": [],
   "source": [
    "import theano\n",
    "import theano.tensor as t"
   ]
  },
  {
   "cell_type": "markdown",
   "metadata": {},
   "source": [
    "Next, we need to define the symbolic variables in our function. Symbolic variables are stateless and represent the operations that they perform. Theano supports multiple types of symbolic variables of varying precision. Here we define two symbolic variables for each of our inputs as vectors with float32 data type. Then we define the operation to be performed to calculate $z$."
   ]
  },
  {
   "cell_type": "code",
   "execution_count": 2,
   "metadata": {
    "collapsed": false
   },
   "outputs": [],
   "source": [
    "x = t.fvector()\n",
    "y = t.fvector()\n",
    "z = t.dot(x, y)"
   ]
  },
  {
   "cell_type": "markdown",
   "metadata": {
    "collapsed": true
   },
   "source": [
    "Finally, we compile a Theano function that takes a list of inputs and outputs."
   ]
  },
  {
   "cell_type": "code",
   "execution_count": 3,
   "metadata": {
    "collapsed": true
   },
   "outputs": [],
   "source": [
    "function = theano.function([x, y], z, allow_input_downcast=True)"
   ]
  },
  {
   "cell_type": "markdown",
   "metadata": {},
   "source": [
    "Now we can generate some data and test the function in Theano compared to Numpy. "
   ]
  },
  {
   "cell_type": "code",
   "execution_count": 4,
   "metadata": {
    "collapsed": false
   },
   "outputs": [
    {
     "name": "stdout",
     "output_type": "stream",
     "text": [
      "Theano output: 1.64438772202\n",
      "Numpy output: 1.64438777691\n"
     ]
    }
   ],
   "source": [
    "import numpy as np\n",
    "\n",
    "a = np.random.rand(10)\n",
    "b = np.random.rand(10)\n",
    "\n",
    "c_theano = function(a, b)\n",
    "c_numpy = np.dot(a, b)\n",
    "\n",
    "print 'Theano output: {0}'.format(c_theano)\n",
    "print 'Numpy output: {0}'.format(c_numpy)"
   ]
  },
  {
   "cell_type": "markdown",
   "metadata": {},
   "source": [
    "## Shared Variables\n",
    "\n",
    "To start working with variables that have persistent states, we need to introduce Theano's shared variables. These can be easily initialized by passing a number, vector, or generally, a Numpy array, to Theano's shared class. Let's consider an accumulator that is inizialized at zero and updates its state by an inputted increment value. "
   ]
  },
  {
   "cell_type": "code",
   "execution_count": 5,
   "metadata": {
    "collapsed": false
   },
   "outputs": [],
   "source": [
    "from theano import shared\n",
    "state = shared(0)\n",
    "inc = t.iscalar('inc')\n",
    "accumulator = theano.function([inc], state, updates=[(state, state + inc)])"
   ]
  },
  {
   "cell_type": "markdown",
   "metadata": {},
   "source": [
    "Here we introduce the `updates` option on Theano's `function` method. These updates are a list of tuples where the first element is the current state and the second element is the update we wish to make to the state. \n",
    "\n",
    "A shared variable's state can be accessed by using the `.get_value()` method and can be changed using the `.set_value()` method."
   ]
  },
  {
   "cell_type": "code",
   "execution_count": 6,
   "metadata": {
    "collapsed": false
   },
   "outputs": [
    {
     "name": "stdout",
     "output_type": "stream",
     "text": [
      "0\n",
      "1\n"
     ]
    }
   ],
   "source": [
    "print state.get_value()\n",
    "state.set_value(1)\n",
    "print state.get_value()"
   ]
  },
  {
   "cell_type": "markdown",
   "metadata": {},
   "source": [
    "We can then use the accumulator function explicitly to accumulate increment values in a loop."
   ]
  },
  {
   "cell_type": "code",
   "execution_count": 7,
   "metadata": {
    "collapsed": false
   },
   "outputs": [
    {
     "name": "stdout",
     "output_type": "stream",
     "text": [
      "1 1 2 4 7 11 16 22 29 37\n"
     ]
    }
   ],
   "source": [
    "for i in xrange(10):\n",
    "    print accumulator(i),"
   ]
  },
  {
   "cell_type": "markdown",
   "metadata": {},
   "source": [
    "## Updating Parameters with Gradients\n",
    "\n",
    "Now that we've introduced symbolic and shared variables, we can now begin updating parameters with gradients. When Theano compiles a function, it represents this function as a graph of nodes and edges where nodes represent mathematical operations and edges represent tensors. Because of this, Theano can use symbolic differentiation to determine the derivative of model parameters with respect to some cost function. \n",
    "\n",
    "Let's consider a trivial \"template matching\" model where we have a target matrix $y$ that we want our model parameters $x$ (also a matrix) to match as closely as possible. We will define the cost as the squared error between the target matrix $y$ and our template parameters $x$:\n",
    "\n",
    "$$loss = \\left\\lVert x - y \\right\\rVert_2$$\n",
    "\n",
    "First we define our variables (our template parameters we define using a uniform random distribution in the interval $[0, 1]$:"
   ]
  },
  {
   "cell_type": "code",
   "execution_count": 8,
   "metadata": {
    "collapsed": false
   },
   "outputs": [],
   "source": [
    "y = t.fmatrix()\n",
    "x = theano.shared(np.random.rand(5, 5))"
   ]
  },
  {
   "cell_type": "markdown",
   "metadata": {},
   "source": [
    "Then we can define our loss function using element-wise operations available in the `tensor` subpackage. "
   ]
  },
  {
   "cell_type": "code",
   "execution_count": 9,
   "metadata": {
    "collapsed": true
   },
   "outputs": [],
   "source": [
    "loss = t.sqrt(t.sum(t.sqr(x - y)))"
   ]
  },
  {
   "cell_type": "markdown",
   "metadata": {},
   "source": [
    "Now that we have our variables and the loss function, we need to get the gradients with respect to our parameters so that we can update them using gradient descent. To do this, we put our parameters $y$ in a list and pass them as well as the calculated loss to Theano's `grad` method, which calculates the gradient of each parameter in the list with respect to the loss. "
   ]
  },
  {
   "cell_type": "code",
   "execution_count": 10,
   "metadata": {
    "collapsed": true
   },
   "outputs": [],
   "source": [
    "params = [x]\n",
    "grads = t.grad(loss, params)"
   ]
  },
  {
   "cell_type": "markdown",
   "metadata": {},
   "source": [
    "Finally, we need to use these gradients to create our updates for the template parameters that will be passed to our Theano function. We define our updates as our parameters minus the gradients weighted by our learning rate. "
   ]
  },
  {
   "cell_type": "code",
   "execution_count": 11,
   "metadata": {
    "collapsed": false
   },
   "outputs": [],
   "source": [
    "lr = 0.01\n",
    "updates = [(p, p - lr * g) for p, g in zip(params, grads)]\n",
    "function = theano.function([y], loss, allow_input_downcast=True, updates=updates)"
   ]
  },
  {
   "cell_type": "markdown",
   "metadata": {},
   "source": [
    "So our Theano function takes the target we want to match as input, outputs the calculated loss for monitoring, and updates our parameters $x$ to best match the target. \n",
    "\n",
    "We can now generate a target and use gradient descent to match our parameters to the target. Let's first generate our target and compare the difference with respect to our template parameters."
   ]
  },
  {
   "cell_type": "code",
   "execution_count": 12,
   "metadata": {
    "collapsed": false
   },
   "outputs": [
    {
     "name": "stdout",
     "output_type": "stream",
     "text": [
      "Target\n",
      "[[ 0.30837907  0.53711185  0.15263019  0.47883634  0.73367757]\n",
      " [ 0.99081401  0.92510229  0.92528955  0.16229806  0.73198543]\n",
      " [ 0.57871672  0.43216043  0.38166374  0.41090114  0.51604675]\n",
      " [ 0.20617937  0.9392397   0.33788359  0.15479062  0.76588134]\n",
      " [ 0.6645209   0.12361015  0.67794968  0.44321824  0.09805944]]\n",
      "Template Parameters\n",
      "[[ 0.00677419  0.10540892  0.49749809  0.53964288  0.60332473]\n",
      " [ 0.00890839  0.28413792  0.72968901  0.11846036  0.96408378]\n",
      " [ 0.9418953   0.94441512  0.20196384  0.00525357  0.28088469]\n",
      " [ 0.90681826  0.5886569   0.30642354  0.22995228  0.9261229 ]\n",
      " [ 0.08501158  0.63011211  0.9257269   0.27034105  0.12741872]]\n"
     ]
    },
    {
     "data": {
      "image/png": "[encoded data removed]",
      "text/plain": [
       "<matplotlib.figure.Figure at 0x10a76cd50>"
      ]
     },
     "metadata": {},
     "output_type": "display_data"
    },
    {
     "data": {
      "image/png": "[encoded data removed]",
      "text/plain": [
       "<matplotlib.figure.Figure at 0x10b46f4d0>"
      ]
     },
     "metadata": {},
     "output_type": "display_data"
    }
   ],
   "source": [
    "target = np.random.rand(5, 5)\n",
    "\n",
    "%matplotlib inline\n",
    "import matplotlib.pyplot as plt\n",
    "\n",
    "def target_template_comparison():\n",
    "\n",
    "    print 'Target'\n",
    "    print target\n",
    "    print 'Template Parameters'\n",
    "    print x.get_value()\n",
    "\n",
    "    plt.matshow(target)\n",
    "    plt.axis('off')\n",
    "    plt.title('Target')\n",
    "\n",
    "    plt.matshow(x.get_value())\n",
    "    plt.axis('off')\n",
    "    plt.title('Template')\n",
    "    \n",
    "target_template_comparison()\n"
   ]
  },
  {
   "cell_type": "markdown",
   "metadata": {},
   "source": [
    "Now lets perform $200$ iterations of gradient descent to see if our template can match the target."
   ]
  },
  {
   "cell_type": "code",
   "execution_count": 13,
   "metadata": {
    "collapsed": false
   },
   "outputs": [
    {
     "name": "stdout",
     "output_type": "stream",
     "text": [
      "1.96546806318\n",
      "1.76546806765\n",
      "1.56546807212\n",
      "1.36546807659\n",
      "1.16546808106\n",
      "0.965468085527\n",
      "0.765468089997\n",
      "0.565468094468\n",
      "0.365468098938\n",
      "0.165468103408\n"
     ]
    },
    {
     "data": {
      "text/plain": [
       "<matplotlib.text.Text at 0x10c007e50>"
      ]
     },
     "execution_count": 13,
     "metadata": {},
     "output_type": "execute_result"
    },
    {
     "data": {
      "image/png": "[encoded data removed]",
      "text/plain": [
       "<matplotlib.figure.Figure at 0x10a75cc50>"
      ]
     },
     "metadata": {},
     "output_type": "display_data"
    }
   ],
   "source": [
    "loss_running = []\n",
    "for i in xrange(200):\n",
    "    loss_iteration = function(target)\n",
    "    loss_running.append(loss_iteration)\n",
    "    if i % 20 == 0:\n",
    "        print loss_iteration\n",
    "        \n",
    "plt.plot(loss_running)\n",
    "plt.title('Loss at Each Iteration')"
   ]
  },
  {
   "cell_type": "markdown",
   "metadata": {},
   "source": [
    "Finally, lets copare the target and template to one another again to see how well our template converged to the target."
   ]
  },
  {
   "cell_type": "code",
   "execution_count": 14,
   "metadata": {
    "collapsed": false
   },
   "outputs": [
    {
     "name": "stdout",
     "output_type": "stream",
     "text": [
      "Target\n",
      "[[ 0.30837907  0.53711185  0.15263019  0.47883634  0.73367757]\n",
      " [ 0.99081401  0.92510229  0.92528955  0.16229806  0.73198543]\n",
      " [ 0.57871672  0.43216043  0.38166374  0.41090114  0.51604675]\n",
      " [ 0.20617937  0.9392397   0.33788359  0.15479062  0.76588134]\n",
      " [ 0.6645209   0.12361015  0.67794968  0.44321824  0.09805944]]\n",
      "Template Parameters\n",
      "[[ 0.30753999  0.53591084  0.15358965  0.4790055   0.73331491]\n",
      " [ 0.98808228  0.92331907  0.92474539  0.16217609  0.73263117]\n",
      " [ 0.57972709  0.43358558  0.3811638   0.40977258  0.51539252]\n",
      " [ 0.20812861  0.93826433  0.33779607  0.15499973  0.76632717]\n",
      " [ 0.66290867  0.12501928  0.67863901  0.44273727  0.09814113]]\n"
     ]
    },
    {
     "data": {
      "image/png": "[encoded data removed]",
      "text/plain": [
       "<matplotlib.figure.Figure at 0x10b757190>"
      ]
     },
     "metadata": {},
     "output_type": "display_data"
    },
    {
     "data": {
      "image/png": "[encoded data removed]",
      "text/plain": [
       "<matplotlib.figure.Figure at 0x10c2a6190>"
      ]
     },
     "metadata": {},
     "output_type": "display_data"
    }
   ],
   "source": [
    "target_template_comparison()"
   ]
  },
  {
   "cell_type": "markdown",
   "metadata": {},
   "source": [
    "We can see that the template parameters learned to match the target closely. With more iterations, the match can be further improved. "
   ]
  }
 ],
 "metadata": {
  "kernelspec": {
   "display_name": "Python 2",
   "language": "python",
   "name": "python2"
  },
  "language_info": {
   "codemirror_mode": {
    "name": "ipython",
    "version": 2
   },
   "file_extension": ".py",
   "mimetype": "text/x-python",
   "name": "python",
   "nbconvert_exporter": "python",
   "pygments_lexer": "ipython2",
   "version": "2.7.8"
  }
 },
 "nbformat": 4,
 "nbformat_minor": 0
}
